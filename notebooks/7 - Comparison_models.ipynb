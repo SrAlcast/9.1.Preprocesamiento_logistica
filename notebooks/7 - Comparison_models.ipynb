{
 "cells": [
  {
   "cell_type": "markdown",
   "metadata": {},
   "source": [
    "<div style=\"text-align: center;\">\n",
    "  <img src=\"https://github.com/Hack-io-Data/Imagenes/blob/main/01-LogosHackio/logo_naranja@4x.png?raw=true\" alt=\"esquema\" />\n",
    "</div>\n",
    "\n",
    "# Construcción y Comparación de Modelos de Clasificación\n",
    "\n",
    "El objetivo de esta práctica es construir múltiples modelos de clasificación para predecir la probabilidad de que una transacción sea fraudulenta. Además de implementar los modelos, deberás analizar y comparar las métricas obtenidas para seleccionar el modelo que mejor se ajuste al problema. En este laboratorio deberás: \n",
    "\n",
    "- Obtener las siguientes métricas para cada modelo:\n",
    "\n",
    "   - Precisión\n",
    "\n",
    "   - Recall (Sensibilidad)\n",
    "\n",
    "   - F1-Score\n",
    "\n",
    "   - Área bajo la curva ROC (AUC-ROC)\n",
    "\n",
    "   - Matriz de confusión\n",
    "\n",
    "   - Accuracy\n",
    "\n",
    "- Visualizar y comparar estas métricas en gráficos claros y explicativos.\n",
    "\n",
    "\n",
    "- Analizar las métricas de rendimiento de cada modelo.\n",
    "\n",
    "- Justificar la selección del modelo más adecuado en función del equilibrio entre precisión y recall, así como la interpretación del área bajo la curva ROC.\n"
   ]
  },
  {
   "cell_type": "code",
   "execution_count": null,
   "metadata": {},
   "outputs": [],
   "source": [
    "# Tratamiento de datos\n",
    "# -----------------------------------------------------------------------\n",
    "import pandas as pd\n",
    "import numpy as np\n",
    "\n",
    "# Otros objetivos\n",
    "# -----------------------------------------------------------------------\n",
    "import sys\n",
    "import os\n",
    "\n",
    "# Ruta relativa desde notebooks/1-Preprocesing/ a src/\n",
    "src_path = \"../src/\"\n",
    "sys.path.append(src_path)\n",
    "\n",
    "import support_comparison as sp  \n",
    "\n",
    "# Visualizaciones\n",
    "# -----------------------------------------------------------------------\n",
    "import seaborn as sns\n",
    "import matplotlib.pyplot as plt\n",
    "\n",
    "# Para realizar la clasificación y la evaluación del modelo\n",
    "# -----------------------------------------------------------------------\n",
    "from sklearn.linear_model import LogisticRegression\n",
    "from sklearn.model_selection import train_test_split\n",
    "from sklearn.metrics import accuracy_score, precision_score, recall_score, f1_score, confusion_matrix\n",
    "import numpy as np\n",
    "import matplotlib.pyplot as plt\n",
    "from sklearn.metrics import roc_curve, roc_auc_score"
   ]
  }
 ],
 "metadata": {
  "kernelspec": {
   "display_name": "Python 3",
   "language": "python",
   "name": "python3"
  },
  "language_info": {
   "codemirror_mode": {
    "name": "ipython",
    "version": 3
   },
   "file_extension": ".py",
   "mimetype": "text/x-python",
   "name": "python",
   "nbconvert_exporter": "python",
   "pygments_lexer": "ipython3",
   "version": "3.12.7"
  }
 },
 "nbformat": 4,
 "nbformat_minor": 2
}
